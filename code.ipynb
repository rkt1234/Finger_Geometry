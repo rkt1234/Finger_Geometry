{
 "cells": [
  {
   "attachments": {},
   "cell_type": "markdown",
   "metadata": {},
   "source": [
    "# **0.Import of neccessary libraries and common steps**"
   ]
  },
  {
   "cell_type": "code",
   "execution_count": 1,
   "metadata": {},
   "outputs": [
    {
     "name": "stdout",
     "output_type": "stream",
     "text": [
      "The cordinates of different hand landmarks are \n",
      "wrist [579.1690349578857, 1435.5223655700684]\n",
      "thumb cmc [794.5153713226318, 1311.2051010131836]\n",
      "thumb mcp [909.9130153656006, 1138.5066032409668]\n",
      "thumb ip [980.8588027954102, 990.2494430541992]\n",
      "thumb tip [1049.905800819397, 872.9512214660645]\n",
      "index finger mcp [704.6459913253784, 856.1043739318848]\n",
      "index finger pip [713.9234304428101, 647.6007461547852]\n",
      "index finger dip [708.4030151367188, 511.5638256072998]\n",
      "index finger tip [693.3324337005615, 399.2328643798828]\n",
      "middle finger mcp  [563.8640642166138, 856.7048072814941]\n",
      "middle finger pip [525.189220905304, 620.4079627990723]\n",
      "middle finger dip [503.7371635437012, 468.96538734436035]\n",
      "middle finger tip [480.31632900238037, 350.3434181213379]\n",
      "ring finger mcp [439.7229194641113, 897.7052688598633]\n",
      "ring finger pip [376.79450511932373, 692.561149597168]\n",
      "ring finger dip [347.6689338684082, 565.0196075439453]\n",
      "ring finger tip [320.5814838409424, 453.1622886657715]\n",
      "pinky finger mcp [324.43567514419556, 962.4597549438477]\n",
      "pinky finger pip [256.12982511520386, 805.3656578063965]\n",
      "pinky finger dip [213.9073133468628, 708.4244728088379]\n",
      "pinky finger tip [182.88559913635254, 607.9173564910889] \n",
      "\n",
      "\n",
      "The cordinates of the extremeties of wrist are : left--->  [381.76630473310206, 1435.5223655700684] right--->  [771.5717651826694, 1435.5223655700684]\n",
      "The cordinates of the highest point is  [480.31632900238037, 350.3434181213379]\n"
     ]
    }
   ],
   "source": [
    "import cv2\n",
    "import math\n",
    "import mediapipe as mp\n",
    "import numpy as np\n",
    "\n",
    "mp_drawing=mp.solutions.drawing_utils\n",
    "mp_hands=mp.solutions.hands\n",
    "\n",
    "with mp_hands.Hands(\n",
    "    static_image_mode=True,\n",
    "    max_num_hands=1,\n",
    "    min_detection_confidence=0.5) as hands:\n",
    "    \n",
    "    image=cv2.imread(r\"F:\\Project Third Year\\Finger_Geometry\\current_images\\IMG_001 (6).JPG\")\n",
    "    results=hands.process(cv2.cvtColor(image,cv2.COLOR_BGR2RGB))\n",
    "    image_height, image_width, _=image.shape\n",
    "    annotated_image=image.copy()\n",
    "    arr=results.multi_hand_landmarks[0]\n",
    "    print(\"The cordinates of different hand landmarks are \")\n",
    "    \n",
    "    #wrist cordinates point 0\n",
    "    wrist=[]\n",
    "    wrist.append(arr.landmark[mp_hands.HandLandmark.WRIST].x * image_width)\n",
    "    wrist.append(arr.landmark[mp_hands.HandLandmark.WRIST].y * image_height)\n",
    "    print(\"wrist\",wrist)\n",
    "\n",
    "    #thumb cmc point 1\n",
    "    thumb_cmc=[]\n",
    "    thumb_cmc.append(arr.landmark[mp_hands.HandLandmark.THUMB_CMC].x * image_width)\n",
    "    thumb_cmc.append(arr.landmark[mp_hands.HandLandmark.THUMB_CMC].y * image_height)\n",
    "    print(\"thumb cmc\",thumb_cmc)\n",
    "\n",
    "    #thumb mcp point 2\n",
    "    thumb_mcp=[]\n",
    "    thumb_mcp.append(arr.landmark[mp_hands.HandLandmark.THUMB_MCP].x * image_width)\n",
    "    thumb_mcp.append(arr.landmark[mp_hands.HandLandmark.THUMB_MCP].y * image_height)\n",
    "    print(\"thumb mcp\",thumb_mcp)\n",
    "\n",
    "    #thumb ip point 3\n",
    "    thumb_ip=[]\n",
    "    thumb_ip.append(arr.landmark[mp_hands.HandLandmark.THUMB_IP].x * image_width)\n",
    "    thumb_ip.append(arr.landmark[mp_hands.HandLandmark.THUMB_IP].y * image_height)\n",
    "    print(\"thumb ip\",thumb_ip)\n",
    "\n",
    "    #thumb tip point 4\n",
    "    thumb_tip=[]\n",
    "    thumb_tip.append(arr.landmark[mp_hands.HandLandmark.THUMB_TIP].x * image_width)\n",
    "    thumb_tip.append(arr.landmark[mp_hands.HandLandmark.THUMB_TIP].y * image_height)\n",
    "    print(\"thumb tip\",thumb_tip)\n",
    "\n",
    "    #index_finger_mcp  point 5\n",
    "    index_finger_mcp=[]\n",
    "    index_finger_mcp.append(arr.landmark[mp_hands.HandLandmark.INDEX_FINGER_MCP].x * image_width)\n",
    "    index_finger_mcp.append(arr.landmark[mp_hands.HandLandmark.INDEX_FINGER_MCP].y * image_height)\n",
    "    print(\"index finger mcp\",index_finger_mcp)\n",
    "\n",
    "    #index_finger_pip point 6\n",
    "    index_finger_pip=[]\n",
    "    index_finger_pip.append(arr.landmark[mp_hands.HandLandmark.INDEX_FINGER_PIP].x * image_width)\n",
    "    index_finger_pip.append(arr.landmark[mp_hands.HandLandmark.INDEX_FINGER_PIP].y * image_height)\n",
    "    print(\"index finger pip\",index_finger_pip)\n",
    "\n",
    "    #index_finger_dip point 7\n",
    "    index_finger_dip=[]\n",
    "    index_finger_dip.append(arr.landmark[mp_hands.HandLandmark.INDEX_FINGER_DIP].x * image_width)\n",
    "    index_finger_dip.append(arr.landmark[mp_hands.HandLandmark.INDEX_FINGER_DIP].y * image_height)\n",
    "    print(\"index finger dip\",index_finger_dip)\n",
    "\n",
    "    #index_finger_tip point 8\n",
    "    index_finger_tip=[]\n",
    "    index_finger_tip.append(arr.landmark[mp_hands.HandLandmark.INDEX_FINGER_TIP].x * image_width)\n",
    "    index_finger_tip.append(arr.landmark[mp_hands.HandLandmark.INDEX_FINGER_TIP].y * image_height)\n",
    "    print(\"index finger tip\",index_finger_tip)\n",
    "\n",
    "    #middle_finger_mcp  point 9\n",
    "    middle_finger_mcp=[]\n",
    "    middle_finger_mcp.append(arr.landmark[mp_hands.HandLandmark.MIDDLE_FINGER_MCP].x * image_width)\n",
    "    middle_finger_mcp.append(arr.landmark[mp_hands.HandLandmark.MIDDLE_FINGER_MCP].y * image_height)\n",
    "    print(\"middle finger mcp \",middle_finger_mcp)\n",
    "\n",
    "    #middle_finger_pip point 10\n",
    "    middle_finger_pip=[]\n",
    "    middle_finger_pip.append(arr.landmark[mp_hands.HandLandmark.MIDDLE_FINGER_PIP].x * image_width)\n",
    "    middle_finger_pip.append(arr.landmark[mp_hands.HandLandmark.MIDDLE_FINGER_PIP].y * image_height)\n",
    "    print(\"middle finger pip\",middle_finger_pip)\n",
    "\n",
    "    #middle_finger_dip point 11\n",
    "    middle_finger_dip=[]\n",
    "    middle_finger_dip.append(arr.landmark[mp_hands.HandLandmark.MIDDLE_FINGER_DIP].x * image_width)\n",
    "    middle_finger_dip.append(arr.landmark[mp_hands.HandLandmark.MIDDLE_FINGER_DIP].y * image_height)\n",
    "    print(\"middle finger dip\",middle_finger_dip)\n",
    "\n",
    "    #middle_finger_tip point 12\n",
    "    middle_finger_tip=[]\n",
    "    middle_finger_tip.append(arr.landmark[mp_hands.HandLandmark.MIDDLE_FINGER_TIP].x * image_width)\n",
    "    middle_finger_tip.append(arr.landmark[mp_hands.HandLandmark.MIDDLE_FINGER_TIP].y * image_height)\n",
    "    print(\"middle finger tip\",middle_finger_tip)\n",
    "\n",
    "    #ring_finger_mcp  point 13\n",
    "    ring_finger_mcp=[]\n",
    "    ring_finger_mcp.append(arr.landmark[mp_hands.HandLandmark.RING_FINGER_MCP].x * image_width)\n",
    "    ring_finger_mcp.append(arr.landmark[mp_hands.HandLandmark.RING_FINGER_MCP].y * image_height)\n",
    "    print(\"ring finger mcp\",ring_finger_mcp)\n",
    "\n",
    "    #ring_finger_pip point 14\n",
    "    ring_finger_pip=[]\n",
    "    ring_finger_pip.append(arr.landmark[mp_hands.HandLandmark.RING_FINGER_PIP].x * image_width)\n",
    "    ring_finger_pip.append(arr.landmark[mp_hands.HandLandmark.RING_FINGER_PIP].y * image_height)\n",
    "    print(\"ring finger pip\",ring_finger_pip)\n",
    "\n",
    "    #ring_finger_dip point 15\n",
    "    ring_finger_dip=[]\n",
    "    ring_finger_dip.append(arr.landmark[mp_hands.HandLandmark.RING_FINGER_DIP].x * image_width)\n",
    "    ring_finger_dip.append(arr.landmark[mp_hands.HandLandmark.RING_FINGER_DIP].y * image_height)\n",
    "    print(\"ring finger dip\",ring_finger_dip)\n",
    "\n",
    "    #ring_finger_tip point 16\n",
    "    ring_finger_tip=[]\n",
    "    ring_finger_tip.append(arr.landmark[mp_hands.HandLandmark.RING_FINGER_TIP].x * image_width)\n",
    "    ring_finger_tip.append(arr.landmark[mp_hands.HandLandmark.RING_FINGER_TIP].y * image_height)\n",
    "    print(\"ring finger tip\",ring_finger_tip)\n",
    "\n",
    "    #pinky_mcp point 17\n",
    "    pinky_mcp=[]\n",
    "    pinky_mcp.append(arr.landmark[mp_hands.HandLandmark.PINKY_MCP].x * image_width)\n",
    "    pinky_mcp.append(arr.landmark[mp_hands.HandLandmark.PINKY_MCP].y * image_height)\n",
    "    print(\"pinky finger mcp\",pinky_mcp)\n",
    "\n",
    "    #pinky_mcp point 18\n",
    "    pinky_pip=[]\n",
    "    pinky_pip.append(arr.landmark[mp_hands.HandLandmark.PINKY_PIP].x * image_width)\n",
    "    pinky_pip.append(arr.landmark[mp_hands.HandLandmark.PINKY_PIP].y * image_height)\n",
    "    print(\"pinky finger pip\",pinky_pip)\n",
    "\n",
    "    #pinky_mcp point 19\n",
    "    pinky_dip=[]\n",
    "    pinky_dip.append(arr.landmark[mp_hands.HandLandmark.PINKY_DIP].x * image_width)\n",
    "    pinky_dip.append(arr.landmark[mp_hands.HandLandmark.PINKY_DIP].y * image_height)\n",
    "    print(\"pinky finger dip\",pinky_dip)\n",
    "\n",
    "    #pinky_mcp point 20\n",
    "    pinky_tip=[]\n",
    "    pinky_tip.append(arr.landmark[mp_hands.HandLandmark.PINKY_TIP].x * image_width)\n",
    "    pinky_tip.append(arr.landmark[mp_hands.HandLandmark.PINKY_TIP].y * image_height)\n",
    "    print(\"pinky finger tip\",pinky_tip,\"\\n\\n\")\n",
    "\n",
    "    #co-ordinates of the top-most point\n",
    "    highest=[]\n",
    "    highest.append(thumb_tip)\n",
    "    highest.append(index_finger_tip)\n",
    "    highest.append(middle_finger_tip)\n",
    "    highest.append(ring_finger_tip)\n",
    "    highest.append(pinky_tip)\n",
    "\n",
    "    #extremeties of the wrist\n",
    "    d=math.dist(index_finger_mcp,pinky_mcp)\n",
    "    d=d/2\n",
    "    left=[]\n",
    "    left.append(wrist[0]-d)\n",
    "    left.append(wrist[1])\n",
    "    cv2.circle(image, center=(int(left[0]), int(left[1])), radius=2, color=(255, 0, 0), thickness=-1)\n",
    "    right=[]\n",
    "    right.append(wrist[0]+d-5)\n",
    "    right.append(wrist[1])\n",
    "    cv2.circle(image, center=(int(right[0]), int(right[1])), radius=2, color=(255, 0, 0), thickness=-1)\n",
    "    cv2.imshow(\"wrist\",image)\n",
    "    cv2.waitKey(0)\n",
    "    print(\"The cordinates of the extremeties of wrist are :\",\"left---> \",left,\"right---> \",right)\n",
    "    width_of_wrist=math.dist(left,right)\n",
    "    print(\"The cordinates of the highest point is \",sorted(highest, key = lambda x: x[1])[0])\n",
    "    \n",
    "\n",
    "        \n",
    "\n"
   ]
  },
  {
   "attachments": {},
   "cell_type": "markdown",
   "metadata": {},
   "source": [
    "# **Property 1.Length of fingers calculation**"
   ]
  },
  {
   "cell_type": "code",
   "execution_count": 2,
   "metadata": {},
   "outputs": [
    {
     "name": "stdout",
     "output_type": "stream",
     "text": [
      "Length of Thumb finger ---------->  300.1960039186511\n",
      "Length of Index finger ---------->  457.01156749742677\n",
      "Length of Middle finger ---------->  513.2076387697584\n",
      "Length of Ring finger ---------->  460.23161877710487\n",
      "Length of Pinky finger ---------->  381.7548117816734\n",
      "513.2076387697584\n"
     ]
    }
   ],
   "source": [
    "print(\"Length of Thumb finger ----------> \",math.dist(thumb_tip,thumb_mcp))\n",
    "print(\"Length of Index finger ----------> \",math.dist(index_finger_tip,index_finger_mcp))\n",
    "print(\"Length of Middle finger ----------> \",math.dist(middle_finger_tip,middle_finger_mcp))\n",
    "print(\"Length of Ring finger ----------> \",math.dist(ring_finger_tip,ring_finger_mcp))\n",
    "print(\"Length of Pinky finger ----------> \",math.dist(pinky_tip,pinky_mcp))\n",
    "length=[]\n",
    "length.append(math.dist(thumb_tip,thumb_mcp))\n",
    "length.append(math.dist(index_finger_tip,index_finger_mcp))\n",
    "length.append(math.dist(middle_finger_tip,middle_finger_mcp))\n",
    "length.append(math.dist(ring_finger_tip,ring_finger_mcp))\n",
    "length.append(math.dist(pinky_tip,pinky_mcp))\n",
    "longest=max(length)\n",
    "print(longest)"
   ]
  },
  {
   "attachments": {},
   "cell_type": "markdown",
   "metadata": {},
   "source": [
    "# **Property 2.Length of the Palm**"
   ]
  },
  {
   "cell_type": "code",
   "execution_count": 3,
   "metadata": {},
   "outputs": [
    {
     "name": "stdout",
     "output_type": "stream",
     "text": [
      "The diameter of the palm  579.0198683227875\n"
     ]
    }
   ],
   "source": [
    "print(\"The diameter of the palm \",math.dist(wrist,middle_finger_mcp))\n",
    "mp_drawing.draw_landmarks(\n",
    "          annotated_image,arr, mp_hands.HAND_CONNECTIONS)\n",
    "image2=cv2.flip(annotated_image,1)\n",
    "cv2.imshow(\"marked image\",image2)\n",
    "cv2.waitKey(0)\n",
    "cv2.destroyAllWindows()"
   ]
  },
  {
   "attachments": {},
   "cell_type": "markdown",
   "metadata": {},
   "source": [
    "# **Property 3.Area of the triangle formed on the palm**"
   ]
  },
  {
   "cell_type": "code",
   "execution_count": 4,
   "metadata": {},
   "outputs": [
    {
     "name": "stdout",
     "output_type": "stream",
     "text": [
      "762.4706190627306\n",
      "592.84877971813\n",
      "537.2869979577639\n",
      "394.8054604495673\n",
      "The area of the triangle formed on the palm =  103477.77414956683\n"
     ]
    }
   ],
   "source": [
    "a=math.dist(wrist,index_finger_mcp)\n",
    "b=math.dist(wrist,pinky_mcp)\n",
    "c=math.dist(index_finger_mcp,pinky_mcp)\n",
    "s=(a+b+c)/2\n",
    "print(s)\n",
    "print(a)\n",
    "print(b)\n",
    "print(c)\n",
    "area_on_palm=math.sqrt(s*(s-a)*(s-b)*(s-c))\n",
    "peri_triangle=(a+b+c)\n",
    "print(\"The area of the triangle formed on the palm = \",area_on_palm)"
   ]
  },
  {
   "attachments": {},
   "cell_type": "markdown",
   "metadata": {},
   "source": [
    "# **Property 4.Length of the segments of fingers**"
   ]
  },
  {
   "cell_type": "code",
   "execution_count": 5,
   "metadata": {},
   "outputs": [
    {
     "name": "stdout",
     "output_type": "stream",
     "text": [
      "Thumb ----------->  136.111574540388 , 164.3578118030311\n",
      "Index finger ----------->  113.33740457192103 , 136.14888445079 , 208.70992710647224\n",
      "Middle finger ----------->  120.91198068413077 , 152.9543867478197 , 239.44089503989127\n",
      "Ring finger ----------->  115.09035465930202 , 130.82485944959436 , 214.57887827094314\n",
      "Pinky finger ----------->  105.18567955319824 , 105.73709778861239 , 171.30161850844857\n"
     ]
    }
   ],
   "source": [
    "#for the thumb\n",
    "print(\"Thumb -----------> \",math.dist(thumb_tip,thumb_ip),\",\",math.dist(thumb_mcp,thumb_ip))\n",
    "print(\"Index finger -----------> \",math.dist(index_finger_tip,index_finger_dip),\",\",math.dist(index_finger_pip,index_finger_dip),\",\",math.dist(index_finger_pip,index_finger_mcp))\n",
    "print(\"Middle finger -----------> \",math.dist(middle_finger_tip,middle_finger_dip),\",\",math.dist(middle_finger_pip,middle_finger_dip),\",\",math.dist(middle_finger_pip,middle_finger_mcp))\n",
    "print(\"Ring finger -----------> \",math.dist(ring_finger_tip,ring_finger_dip),\",\",math.dist(ring_finger_pip,ring_finger_dip),\",\",math.dist(ring_finger_pip,ring_finger_mcp))\n",
    "print(\"Pinky finger -----------> \",math.dist(pinky_tip,pinky_dip),\",\",math.dist(pinky_pip,pinky_dip),\",\",math.dist(pinky_pip,pinky_mcp))\n"
   ]
  },
  {
   "attachments": {},
   "cell_type": "markdown",
   "metadata": {},
   "source": [
    "# **Property 5.Distance between the lowest and highest point of the hand**"
   ]
  },
  {
   "cell_type": "code",
   "execution_count": 6,
   "metadata": {},
   "outputs": [
    {
     "name": "stdout",
     "output_type": "stream",
     "text": [
      "The distance is  733.5389525527893\n"
     ]
    }
   ],
   "source": [
    "print(\"The distance is \",math.dist(highest[0],wrist))"
   ]
  },
  {
   "attachments": {},
   "cell_type": "markdown",
   "metadata": {},
   "source": [
    "# **Property 6.Distance between the lowest points (mcp) of two consecutive fingers**"
   ]
  },
  {
   "cell_type": "code",
   "execution_count": 7,
   "metadata": {},
   "outputs": [
    {
     "name": "stdout",
     "output_type": "stream",
     "text": [
      "Thumb-Index 349.1211398312461\n",
      "Index-Middle 140.78320752371303\n",
      "Middle-Ring 130.73661181972358\n",
      "Ring-Pinky 132.2281822112097\n"
     ]
    }
   ],
   "source": [
    "print(\"Thumb-Index\",math.dist(thumb_mcp,index_finger_mcp))\n",
    "print(\"Index-Middle\",math.dist(index_finger_mcp,middle_finger_mcp))\n",
    "print(\"Middle-Ring\",math.dist(middle_finger_mcp,ring_finger_mcp))\n",
    "print(\"Ring-Pinky\",math.dist(ring_finger_mcp,pinky_mcp))"
   ]
  },
  {
   "attachments": {},
   "cell_type": "markdown",
   "metadata": {},
   "source": [
    "# **Property 7.Perimter of the polygon formed on the palm with wrist and mcp of fingers as points**"
   ]
  },
  {
   "cell_type": "code",
   "execution_count": 8,
   "metadata": {},
   "outputs": [
    {
     "name": "stdout",
     "output_type": "stream",
     "text": [
      "The perimeter of the polygon is  1734.6895392675274\n"
     ]
    }
   ],
   "source": [
    "a=math.dist(wrist,thumb_mcp)\n",
    "b=math.dist(thumb_mcp,index_finger_mcp)\n",
    "c=math.dist(index_finger_mcp,middle_finger_mcp)\n",
    "d=math.dist(middle_finger_mcp,ring_finger_mcp)\n",
    "e=math.dist(ring_finger_mcp,pinky_mcp)\n",
    "f=math.dist(pinky_mcp,wrist)\n",
    "print(\"The perimeter of the polygon is \",(a+b+c+d+e+f))\n",
    "poly_peri=a+b+c+d+e+f"
   ]
  },
  {
   "attachments": {},
   "cell_type": "markdown",
   "metadata": {},
   "source": [
    "# **Property 8.Width of the wrist**"
   ]
  },
  {
   "cell_type": "code",
   "execution_count": 9,
   "metadata": {},
   "outputs": [
    {
     "name": "stdout",
     "output_type": "stream",
     "text": [
      "The width of the wrist is  389.80546044956736\n",
      "394.8054604495673\n"
     ]
    }
   ],
   "source": [
    "print(\"The width of the wrist is \",math.dist(left,right))\n",
    "print(math.dist(index_finger_mcp,pinky_mcp))"
   ]
  },
  {
   "attachments": {},
   "cell_type": "markdown",
   "metadata": {},
   "source": [
    "# **Property 9.Area of the triangle formed on the hand with wrist extremeties and highest point**"
   ]
  },
  {
   "cell_type": "code",
   "execution_count": 10,
   "metadata": {},
   "outputs": [
    {
     "name": "stdout",
     "output_type": "stream",
     "text": [
      "The area of the triangle formed on the palm =  109646.65193155056\n"
     ]
    }
   ],
   "source": [
    "a=math.dist(left,highest[0])\n",
    "b=math.dist(right,highest[0])\n",
    "c=math.dist(left,right)\n",
    "s=(a+b+c)/2\n",
    "area_on_hand=math.sqrt(s*(s-a)*(s-b)*(s-c))\n",
    "print(\"The area of the triangle formed on the palm = \",area_on_hand)\n"
   ]
  },
  {
   "attachments": {},
   "cell_type": "markdown",
   "metadata": {},
   "source": [
    "# **Property 10.Perimeter of the polygon enclosing the hand**"
   ]
  },
  {
   "cell_type": "code",
   "execution_count": 11,
   "metadata": {},
   "outputs": [
    {
     "name": "stdout",
     "output_type": "stream",
     "text": [
      "The perimeter of the polygon is  3003.8149032333254\n"
     ]
    }
   ],
   "source": [
    "a=math.dist(left,thumb_tip)\n",
    "b=math.dist(index_finger_tip,thumb_tip)\n",
    "c=math.dist(index_finger_tip,middle_finger_tip)\n",
    "d=math.dist(middle_finger_tip,ring_finger_tip)\n",
    "e=math.dist(ring_finger_tip,pinky_tip)\n",
    "f=math.dist(pinky_tip,right)\n",
    "g=a=math.dist(left,right)\n",
    "print(\"The perimeter of the polygon is \",(a+b+c+d+e+f+g))\n"
   ]
  },
  {
   "attachments": {},
   "cell_type": "markdown",
   "metadata": {},
   "source": [
    "# **Property 11.Radius of the circle passing through pip of index,middle and ring finger**"
   ]
  },
  {
   "attachments": {},
   "cell_type": "markdown",
   "metadata": {},
   "source": [
    "# **Property 12.Distance between finger tips**"
   ]
  },
  {
   "cell_type": "code",
   "execution_count": null,
   "metadata": {},
   "outputs": [],
   "source": [
    "thumbIndex = length[1]-length[0]\n",
    "indexMiddle = length[2]-length[1]\n",
    "middleRing = length[2]-length[3]\n",
    "ringLittle = length[3]-length[4]\n",
    "\n",
    "print(\"Distance between thumb and index finger : \",abs(thumbIndex))\n",
    "print(\"Distance between index and middle finger : \",abs(indexMiddle))\n",
    "print(\"Distance between middle and ring finger : \",abs(middleRing))\n",
    "print(\"Distance between ring and pinky finger : \",abs(ringLittle))"
   ]
  },
  {
   "cell_type": "code",
   "execution_count": 12,
   "metadata": {},
   "outputs": [
    {
     "name": "stdout",
     "output_type": "stream",
     "text": [
      "525.189220905304 620.4079627990723\n",
      "Centre = ( 579.0 ,  919.0 )\n",
      "Radius =  303.08726\n"
     ]
    }
   ],
   "source": [
    "x1=index_finger_pip[0]\n",
    "x2=middle_finger_pip[0]\n",
    "x3=ring_finger_pip[0]    \n",
    "y1=index_finger_pip[1]\n",
    "y2=middle_finger_pip[1]\n",
    "y3=ring_finger_pip[1]\n",
    "\n",
    "print(x2,y2)\n",
    "\n",
    "x12 = x1 - x2\n",
    "x13 = x1 - x3\n",
    "\n",
    "y12 = y1 - y2\n",
    "y13 = y1 - y3\n",
    "\n",
    "y31 = y3 - y1\n",
    "y21 = y2 - y1\n",
    "\n",
    "x31 = x3 - x1\n",
    "x21 = x2 - x1\n",
    "\n",
    "# x1^2 - x3^2\n",
    "sx13 = pow(x1, 2) - pow(x3, 2)\n",
    "\n",
    "# y1^2 - y3^2\n",
    "sy13 = pow(y1, 2) - pow(y3, 2)\n",
    "\n",
    "sx21 = pow(x2, 2) - pow(x1, 2)\n",
    "sy21 = pow(y2, 2) - pow(y1, 2)\n",
    "\n",
    "f = (((sx13) * (x12) + (sy13) *\n",
    "        (x12) + (sx21) * (x13) +\n",
    "        (sy21) * (x13)) // (2 *\n",
    "        ((y31) * (x12) - (y21) * (x13))))\n",
    "            \n",
    "g = (((sx13) * (y12) + (sy13) * (y12) +\n",
    "        (sx21) * (y13) + (sy21) * (y13)) //\n",
    "        (2 * ((x31) * (y12) - (x21) * (y13))))\n",
    "\n",
    "c = (-pow(x1, 2) - pow(y1, 2) -\n",
    "        2 * g * x1 - 2 * f * y1)\n",
    "\n",
    "# eqn of circle be x^2 + y^2 + 2*g*x + 2*f*y + c = 0\n",
    "# where centre is (h = -g, k = -f) and\n",
    "# radius r as r^2 = h^2 + k^2 - c\n",
    "h = -g\n",
    "k = -f\n",
    "sqr_of_r = h * h + k * k - c\n",
    "\n",
    "# r is the radius\n",
    "r = round(math.sqrt(sqr_of_r), 5);\n",
    "\n",
    "print(\"Centre = (\", h, \", \", k, \")\")\n",
    "print(\"Radius = \", r)"
   ]
  },
  {
   "attachments": {},
   "cell_type": "markdown",
   "metadata": {},
   "source": [
    "# **Feature 1. Length of each finger : Length of longest finger F1**"
   ]
  },
  {
   "cell_type": "code",
   "execution_count": 13,
   "metadata": {},
   "outputs": [
    {
     "name": "stdout",
     "output_type": "stream",
     "text": [
      "Thumb : Longest finger  0.5849406385264829\n",
      "Index finger : Longest finger  0.890500321844307\n",
      "Middle finger : Longest finger  1.0\n",
      "Ring finger : Longest finger  0.8967746853502695\n",
      "Pinky finger : Longest finger  0.7438603460712342\n"
     ]
    }
   ],
   "source": [
    "print(\"Thumb : Longest finger \",math.dist(thumb_tip,thumb_mcp)/longest)\n",
    "print(\"Index finger : Longest finger \",math.dist(index_finger_tip,index_finger_mcp)/longest)\n",
    "print(\"Middle finger : Longest finger \",math.dist(middle_finger_tip,middle_finger_mcp)/longest)\n",
    "print(\"Ring finger : Longest finger \",math.dist(ring_finger_tip,ring_finger_mcp)/longest)\n",
    "print(\"Pinky finger : Longest finger \",math.dist(pinky_tip,pinky_mcp)/longest)\n"
   ]
  },
  {
   "attachments": {},
   "cell_type": "markdown",
   "metadata": {},
   "source": [
    "# **Feature 2.Area of triangle formed on palm : (Diameter of the palm*width of the wrist) F2**"
   ]
  },
  {
   "cell_type": "code",
   "execution_count": 14,
   "metadata": {},
   "outputs": [
    {
     "name": "stdout",
     "output_type": "stream",
     "text": [
      "0.4584644796422388\n"
     ]
    }
   ],
   "source": [
    "print(area_on_palm/(width_of_wrist*math.dist(wrist,middle_finger_mcp)))"
   ]
  },
  {
   "attachments": {},
   "cell_type": "markdown",
   "metadata": {},
   "source": [
    "# **Feature 3.Length of palm:length of longest finger F3**"
   ]
  },
  {
   "cell_type": "code",
   "execution_count": 15,
   "metadata": {},
   "outputs": [
    {
     "name": "stdout",
     "output_type": "stream",
     "text": [
      "1.1282370420494745\n"
     ]
    }
   ],
   "source": [
    "print(math.dist(wrist,middle_finger_mcp)/longest)"
   ]
  },
  {
   "attachments": {},
   "cell_type": "markdown",
   "metadata": {},
   "source": [
    "# **Feature 4:Perimeter of the polygon formed on the palm:perimeter of the triangle formed on the polygon F4**"
   ]
  },
  {
   "cell_type": "code",
   "execution_count": 16,
   "metadata": {},
   "outputs": [
    {
     "name": "stdout",
     "output_type": "stream",
     "text": [
      "1.1375451695436474\n"
     ]
    }
   ],
   "source": [
    "print(poly_peri/peri_triangle)"
   ]
  },
  {
   "attachments": {},
   "cell_type": "markdown",
   "metadata": {},
   "source": [
    "# **Feature 5:Area of triangle formed on palm:Area of triangle formed on hand F5**\n"
   ]
  },
  {
   "cell_type": "code",
   "execution_count": 17,
   "metadata": {},
   "outputs": [
    {
     "name": "stdout",
     "output_type": "stream",
     "text": [
      "0.943738566811554\n"
     ]
    }
   ],
   "source": [
    "print(area_on_palm/area_on_hand)"
   ]
  },
  {
   "attachments": {},
   "cell_type": "markdown",
   "metadata": {},
   "source": [
    "# **Feature 6:Length of the hand : width of the wrist F6**"
   ]
  },
  {
   "cell_type": "code",
   "execution_count": 3,
   "metadata": {},
   "outputs": [
    {
     "ename": "NameError",
     "evalue": "name 'math' is not defined",
     "output_type": "error",
     "traceback": [
      "\u001b[1;31m---------------------------------------------------------------------------\u001b[0m",
      "\u001b[1;31mNameError\u001b[0m                                 Traceback (most recent call last)",
      "Cell \u001b[1;32mIn[3], line 1\u001b[0m\n\u001b[1;32m----> 1\u001b[0m \u001b[39mprint\u001b[39m(math\u001b[39m.\u001b[39mdist(index_finger_tip,wrist)\u001b[39m/\u001b[39mwidth_of_wrist)\n\u001b[0;32m      2\u001b[0m thumbIndex \u001b[39m=\u001b[39m length[\u001b[39m1\u001b[39m]\u001b[39m-\u001b[39mlength[\u001b[39m0\u001b[39m]\n\u001b[0;32m      3\u001b[0m indexMiddle \u001b[39m=\u001b[39m length[\u001b[39m2\u001b[39m]\u001b[39m-\u001b[39mlength[\u001b[39m1\u001b[39m]\n",
      "\u001b[1;31mNameError\u001b[0m: name 'math' is not defined"
     ]
    }
   ],
   "source": [
    "print(math.dist(index_finger_tip,wrist)/width_of_wrist)"
   ]
  },
  {
   "attachments": {},
   "cell_type": "markdown",
   "metadata": {},
   "source": [
    "# **7.Difference between length of adjacent fingers : Largest difference between the adjacent fingers F7**"
   ]
  },
  {
   "cell_type": "code",
   "execution_count": null,
   "metadata": {},
   "outputs": [],
   "source": [
    "print(\"Ratio of Index-Middle distance to Index-Thumb Distance\",indexMiddle/thumbIndex)\n",
    "print(\"Ratio of Middle-Ring distance to Index-Thumb Distance\",middleRing/thumbIndex)\n",
    "print(\"Ratio of Little-Ring distance to Index-Thumb Distance\",ringLittle/thumbIndex)"
   ]
  }
 ],
 "metadata": {
  "kernelspec": {
   "display_name": "Python 3",
   "language": "python",
   "name": "python3"
  },
  "language_info": {
   "codemirror_mode": {
    "name": "ipython",
    "version": 3
   },
   "file_extension": ".py",
   "mimetype": "text/x-python",
   "name": "python",
   "nbconvert_exporter": "python",
   "pygments_lexer": "ipython3",
   "version": "3.9.7"
  },
  "orig_nbformat": 4,
  "vscode": {
   "interpreter": {
    "hash": "f42cdcbf8400eac50fc1e46c5a5b3b7e1171060be5471d08bba7a1b0f55f3644"
   }
  }
 },
 "nbformat": 4,
 "nbformat_minor": 2
}
